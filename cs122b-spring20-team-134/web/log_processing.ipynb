{
 "cells": [
  {
   "cell_type": "code",
   "execution_count": 14,
   "metadata": {},
   "outputs": [],
   "source": [
    "import re"
   ]
  },
  {
   "cell_type": "code",
   "execution_count": 15,
   "metadata": {},
   "outputs": [
    {
     "name": "stdout",
     "output_type": "stream",
     "text": [
      "Single Instance: \n",
      "Average TS:  674935537.1112794 ns,  674.9355371112794 ms\n",
      "Average TJ:  649641636.3913702 ns,  649.6416363913702 ms\n",
      "Scaled version on aws: \n",
      "Average TS:  290158468.11430734 ns,  290.15846811430737 ms\n",
      "Average TJ:  278812492.666919 ns,  278.812492666919 ms\n",
      "Scaled version on google cloud: \n",
      "Average TS:  268035290.0730507 ns,  268.0352900730507 ms\n",
      "Average TJ:  258032297.07229373 ns,  258.0322970722937 ms\n"
     ]
    }
   ],
   "source": [
    "path = r'D:/projects/data/performance_log/'\n",
    "\n",
    "# single instance\n",
    "totalts = 0\n",
    "totaltj = 0\n",
    "with open(path+'single_instance.txt') as f:\n",
    "    lines = f.readlines()\n",
    "    for line in lines:\n",
    "        nums = re.findall('\\d*\\.?\\d+',line)\n",
    "        totalts += int(nums[0])\n",
    "        totaltj += int(nums[1])\n",
    "        \n",
    "averagets = totalts/len(lines)\n",
    "averagetj = totaltj/len(lines)\n",
    "print(\"Single Instance: \")\n",
    "print(\"Average TS: \", averagets, \"ns, \", averagets/1000000, \"ms\")\n",
    "print(\"Average TJ: \", averagetj, \"ns, \", averagetj/1000000, \"ms\")\n",
    "\n",
    "# scale version on aws\n",
    "totalts = 0\n",
    "totaltj = 0\n",
    "totalLength = 0\n",
    "\n",
    "with open(path+'master_aws.txt') as f:\n",
    "    lines = f.readlines()\n",
    "    totalLength += len(lines)\n",
    "    for line in lines:\n",
    "        nums = re.findall('\\d*\\.?\\d+',line)\n",
    "        totalts += int(nums[0])\n",
    "        totaltj += int(nums[1])\n",
    "\n",
    "with open(path+'slave_aws.txt') as f:\n",
    "    lines = f.readlines()\n",
    "    totalLength += len(lines)\n",
    "    for line in lines:\n",
    "        nums = re.findall('\\d*\\.?\\d+',line)\n",
    "        totalts += int(nums[0])\n",
    "        totaltj += int(nums[1])\n",
    "        \n",
    "averagets = totalts/totalLength\n",
    "averagetj = totaltj/totalLength\n",
    "print(\"Scaled version on aws: \")\n",
    "print(\"Average TS: \", averagets, \"ns, \", averagets/1000000, \"ms\")\n",
    "print(\"Average TJ: \", averagetj, \"ns, \", averagetj/1000000, \"ms\")\n",
    "\n",
    "# scale version on gcp\n",
    "totalts = 0\n",
    "totaltj = 0\n",
    "totalLength = 0\n",
    "\n",
    "with open(path+'master_gc.txt') as f:\n",
    "    lines = f.readlines()\n",
    "    totalLength += len(lines)\n",
    "    for line in lines:\n",
    "        nums = re.findall('\\d*\\.?\\d+',line)\n",
    "        totalts += int(nums[0])\n",
    "        totaltj += int(nums[1])\n",
    "\n",
    "with open(path+'slave_gc.txt') as f:\n",
    "    lines = f.readlines()\n",
    "    totalLength += len(lines)\n",
    "    for line in lines:\n",
    "        nums = re.findall('\\d*\\.?\\d+',line)\n",
    "        totalts += int(nums[0])\n",
    "        totaltj += int(nums[1])\n",
    "        \n",
    "averagets = totalts/totalLength\n",
    "averagetj = totaltj/totalLength\n",
    "print(\"Scaled version on google cloud: \")\n",
    "print(\"Average TS: \", averagets, \"ns, \", averagets/1000000, \"ms\")\n",
    "print(\"Average TJ: \", averagetj, \"ns, \", averagetj/1000000, \"ms\")"
   ]
  },
  {
   "cell_type": "code",
   "execution_count": null,
   "metadata": {},
   "outputs": [],
   "source": []
  }
 ],
 "metadata": {
  "kernelspec": {
   "display_name": "Python 3",
   "language": "python",
   "name": "python3"
  },
  "language_info": {
   "codemirror_mode": {
    "name": "ipython",
    "version": 3
   },
   "file_extension": ".py",
   "mimetype": "text/x-python",
   "name": "python",
   "nbconvert_exporter": "python",
   "pygments_lexer": "ipython3",
   "version": "3.6.9"
  }
 },
 "nbformat": 4,
 "nbformat_minor": 2
}
